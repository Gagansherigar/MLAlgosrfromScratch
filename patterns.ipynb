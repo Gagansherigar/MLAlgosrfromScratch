{
  "nbformat": 4,
  "nbformat_minor": 0,
  "metadata": {
    "colab": {
      "provenance": [],
      "authorship_tag": "ABX9TyOlfPRcSk3sHij59F/z3xrY",
      "include_colab_link": true
    },
    "kernelspec": {
      "name": "python3",
      "display_name": "Python 3"
    },
    "language_info": {
      "name": "python"
    }
  },
  "cells": [
    {
      "cell_type": "markdown",
      "metadata": {
        "id": "view-in-github",
        "colab_type": "text"
      },
      "source": [
        "<a href=\"https://colab.research.google.com/github/Gagansherigar/MLAlgosrfromScratch/blob/main/patterns.ipynb\" target=\"_parent\"><img src=\"https://colab.research.google.com/assets/colab-badge.svg\" alt=\"Open In Colab\"/></a>"
      ]
    },
    {
      "cell_type": "code",
      "execution_count": 14,
      "metadata": {
        "colab": {
          "base_uri": "https://localhost:8080/"
        },
        "id": "AS5GvGBnUJcg",
        "outputId": "62eee840-e60a-4f90-df95-53303c030c66"
      },
      "outputs": [
        {
          "output_type": "stream",
          "name": "stdout",
          "text": [
            "*****\n",
            "*****\n",
            "*****\n",
            "*****\n",
            "*****\n"
          ]
        }
      ],
      "source": [
        "for i in range(5):\n",
        "  for j in range(5):\n",
        "    print(\"*\",end=\"\")\n",
        "  print()\n",
        "\n",
        "\n",
        ""
      ]
    },
    {
      "cell_type": "code",
      "source": [
        "for i in range(5):\n",
        "  for j in range(i+1):\n",
        "    print(\"*\",end=\"\")\n",
        "  print()"
      ],
      "metadata": {
        "colab": {
          "base_uri": "https://localhost:8080/"
        },
        "id": "EdEMoOGHVfME",
        "outputId": "24483667-548e-42b7-ebb6-06070e9dcbc4"
      },
      "execution_count": 30,
      "outputs": [
        {
          "output_type": "stream",
          "name": "stdout",
          "text": [
            "*\n",
            "**\n",
            "***\n",
            "****\n",
            "*****\n"
          ]
        }
      ]
    },
    {
      "cell_type": "code",
      "source": [
        "for row in range(5):\n",
        "  for col in range(5-i):\n",
        "    print(end=\" \")\n",
        "\n",
        "\n",
        ""
      ],
      "metadata": {
        "colab": {
          "base_uri": "https://localhost:8080/"
        },
        "id": "ucLwmXuRYn4_",
        "outputId": "e1330afc-5758-4a23-93d6-fefb36b2ef4c"
      },
      "execution_count": 29,
      "outputs": [
        {
          "output_type": "stream",
          "name": "stdout",
          "text": [
            " *\n",
            " *\n",
            " *\n",
            " *\n",
            " *\n"
          ]
        }
      ]
    },
    {
      "cell_type": "code",
      "source": [
        "for i in range(5):\n",
        "  for j in range(5-i):\n",
        "    print(\"*\",end=\"\")\n",
        "  print()"
      ],
      "metadata": {
        "colab": {
          "base_uri": "https://localhost:8080/"
        },
        "id": "iQXHX6plZ598",
        "outputId": "56b56601-b758-4327-e621-cbc45fd0ecd0"
      },
      "execution_count": 31,
      "outputs": [
        {
          "output_type": "stream",
          "name": "stdout",
          "text": [
            "*****\n",
            "****\n",
            "***\n",
            "**\n",
            "*\n"
          ]
        }
      ]
    },
    {
      "cell_type": "code",
      "source": [
        "for i in range(5):\n",
        "  for j in range(i,5):\n",
        "    print(' ',end=\"\")\n",
        "  for j in range(i+1):\n",
        "    print(\"*\",end=\"\")\n",
        "\n",
        "  print()"
      ],
      "metadata": {
        "colab": {
          "base_uri": "https://localhost:8080/"
        },
        "id": "fQJvQ8d1caOK",
        "outputId": "6adca5ca-d97d-42be-99fb-c4490ef0eca8"
      },
      "execution_count": 33,
      "outputs": [
        {
          "output_type": "stream",
          "name": "stdout",
          "text": [
            "     *\n",
            "    **\n",
            "   ***\n",
            "  ****\n",
            " *****\n"
          ]
        }
      ]
    },
    {
      "cell_type": "code",
      "source": [
        "n=5\n",
        "\n",
        "for i in range(n):\n",
        "  for j in range(i,n):\n",
        "    print(\" \",end=\"\")\n",
        "\n",
        "  for j in range(i+1):\n",
        "    print(\"*\",end=\"\")\n",
        "\n",
        "  for j in range(i):\n",
        "    print(\"*\",end=\"\")\n",
        "\n",
        "\n",
        "\n",
        "\n",
        "\n",
        "  print()"
      ],
      "metadata": {
        "colab": {
          "base_uri": "https://localhost:8080/"
        },
        "id": "OL4mR43scaLP",
        "outputId": "dd30d864-ad57-4ca0-8c49-16f4edab7cdf"
      },
      "execution_count": 50,
      "outputs": [
        {
          "output_type": "stream",
          "name": "stdout",
          "text": [
            "     *\n",
            "    ***\n",
            "   *****\n",
            "  *******\n",
            " *********\n"
          ]
        }
      ]
    },
    {
      "cell_type": "code",
      "source": [
        "for i in  range(n):\n",
        "  for space in range(i):\n",
        "    print(\" \",end=\"\")\n",
        "  for j in range(n-i):\n",
        "    print(\"*\",end=\"\")\n",
        "\n",
        "  for j in range(n-i-1):\n",
        "    print(\"*\",end=\"\")\n",
        "\n",
        "\n",
        "\n",
        "  print()"
      ],
      "metadata": {
        "colab": {
          "base_uri": "https://localhost:8080/"
        },
        "id": "36EcTi4YcaJU",
        "outputId": "ce4ac480-2a67-46cf-e225-247dace75cdd"
      },
      "execution_count": 76,
      "outputs": [
        {
          "output_type": "stream",
          "name": "stdout",
          "text": [
            "*********\n",
            " ******\n",
            "  ***\n",
            "   *\n",
            "    \n"
          ]
        }
      ]
    },
    {
      "cell_type": "code",
      "source": [
        "n=6\n",
        "for i in range (n):\n",
        "  for space in range(0,i+1):\n",
        "    print(\" \",end=\"\")\n",
        "  for j in range(i,n):\n",
        "    print(\"*\",end=\"\")\n",
        "  for j in range(i,n-1):\n",
        "    print(\"*\",end=\"\")\n",
        "\n",
        "\n",
        "\n",
        "\n",
        "  print()"
      ],
      "metadata": {
        "colab": {
          "base_uri": "https://localhost:8080/"
        },
        "id": "wsIkxJyvcaHU",
        "outputId": "f2b48afe-0723-4303-e95d-3f6029207ba6"
      },
      "execution_count": 101,
      "outputs": [
        {
          "output_type": "stream",
          "name": "stdout",
          "text": [
            " ***********\n",
            "  *********\n",
            "   *******\n",
            "    *****\n",
            "     ***\n",
            "      *\n"
          ]
        }
      ]
    },
    {
      "cell_type": "code",
      "source": [
        "for i in range (n-1):\n",
        "  for j in range(i,n):\n",
        "    print(\" \",end=\"\")\n",
        "\n",
        "  for j in range(i+1):\n",
        "    print(\"*\",end=\"\")\n",
        "\n",
        "  for j in range(i):\n",
        "    print(\"*\",end=\"\")\n",
        "\n",
        "\n",
        "  print()\n",
        "for i in range (n):\n",
        "  for space in range(i+1):\n",
        "    print(\" \",end=\"\")\n",
        "  for j in range(i,n):\n",
        "    print(\"*\",end=\"\")\n",
        "  for j in range(i,n-1):\n",
        "    print(\"*\",end=\"\")\n",
        "  print()\n"
      ],
      "metadata": {
        "colab": {
          "base_uri": "https://localhost:8080/"
        },
        "id": "U_5GKiP_caFa",
        "outputId": "699b5b67-3a22-4bd5-8b58-8b896e49a75a"
      },
      "execution_count": 100,
      "outputs": [
        {
          "output_type": "stream",
          "name": "stdout",
          "text": [
            "      *\n",
            "     ***\n",
            "    *****\n",
            "   *******\n",
            "  *********\n",
            " ***********\n",
            "  *********\n",
            "   *******\n",
            "    *****\n",
            "     ***\n",
            "      *\n"
          ]
        }
      ]
    },
    {
      "cell_type": "code",
      "source": [
        " n=5\n",
        " for i in range(n):\n",
        "  for col in range(i):\n",
        "    print(\"*\",end=\"\")\n",
        "\n",
        "\n",
        "  print()"
      ],
      "metadata": {
        "colab": {
          "base_uri": "https://localhost:8080/"
        },
        "id": "x0769bDGcaDK",
        "outputId": "cc04fe23-4bde-41d0-a92d-2794d5841deb"
      },
      "execution_count": 1,
      "outputs": [
        {
          "output_type": "stream",
          "name": "stdout",
          "text": [
            "\n",
            "*\n",
            "**\n",
            "***\n",
            "****\n"
          ]
        }
      ]
    },
    {
      "cell_type": "code",
      "source": [
        "for i in range(n):\n",
        "  for col in range(i+1):\n",
        "    print(\" \",end=\"\")\n",
        "  for col in range (n-i-1):\n",
        "    print(\"*\",end=\"\")\n",
        "  for col in range(n-i-1):\n",
        "    print(\"*\",end=\"\")\n",
        "  print()\n",
        "for i in range(n):\n",
        "  for col in range(i,n):\n",
        "    print(\" \",end=\"\")\n",
        "  for col in range (i+1):\n",
        "    print(\"*\",end=\"\")\n",
        "  for col in range(i):\n",
        "    print(\"*\",end=\"\")\n",
        "  print()\n"
      ],
      "metadata": {
        "colab": {
          "base_uri": "https://localhost:8080/"
        },
        "id": "3HamSry8WgSQ",
        "outputId": "ef4b7af6-d1bf-47f1-bc1b-8e02efe01400"
      },
      "execution_count": 50,
      "outputs": [
        {
          "output_type": "stream",
          "name": "stdout",
          "text": [
            " ********\n",
            "  ******\n",
            "   ****\n",
            "    **\n",
            "     \n",
            "     *\n",
            "    ***\n",
            "   *****\n",
            "  *******\n",
            " *********\n"
          ]
        }
      ]
    },
    {
      "cell_type": "code",
      "source": [
        "n = 5  # size\n",
        "\n",
        "# Upper half\n",
        "for i in range(n):\n",
        "    print(\" \" * (i+1) + \"*\" * (2*(n-i-1)))\n",
        "\n",
        "# Lower half\n",
        "for i in range(n):\n",
        "    print(\" \" * (n-i) + \"*\" * (2*i+1))\n"
      ],
      "metadata": {
        "colab": {
          "base_uri": "https://localhost:8080/"
        },
        "id": "PEbq3I0zWgO1",
        "outputId": "b75fa05a-247e-47ce-d7ea-542fb8f2f825"
      },
      "execution_count": 51,
      "outputs": [
        {
          "output_type": "stream",
          "name": "stdout",
          "text": [
            " ********\n",
            "  ******\n",
            "   ****\n",
            "    **\n",
            "     \n",
            "     *\n",
            "    ***\n",
            "   *****\n",
            "  *******\n",
            " *********\n"
          ]
        }
      ]
    },
    {
      "cell_type": "code",
      "source": [
        "n = 5  # size\n",
        "\n",
        "# Upper half\n",
        "for i in range(n):\n",
        "    print(\" \" * i + \"*\" * (2*(n-i)-1))\n",
        "\n",
        "# Lower half\n",
        "for i in range(1, n):\n",
        "    print(\" \" * (n-i-1) + \"*\" * (2*i+1))\n"
      ],
      "metadata": {
        "colab": {
          "base_uri": "https://localhost:8080/"
        },
        "id": "lbW7S2ubWgMD",
        "outputId": "3687f18e-7d31-406d-fccf-70724393bd43"
      },
      "execution_count": 52,
      "outputs": [
        {
          "output_type": "stream",
          "name": "stdout",
          "text": [
            "*********\n",
            " *******\n",
            "  *****\n",
            "   ***\n",
            "    *\n",
            "   ***\n",
            "  *****\n",
            " *******\n",
            "*********\n"
          ]
        }
      ]
    },
    {
      "cell_type": "code",
      "source": [
        "for i in range(n):\n",
        "  for col in range(i+1):  # <-- this extra +1 causes 1 more space\n",
        "    print(\" \",end=\"\")\n",
        "  for col in range (n-i-1):\n",
        "    print(\"*\",end=\"\")\n",
        "  for col in range(n-i-1):\n",
        "    print(\"*\",end=\"\")\n",
        "  print()\n",
        "\n",
        "for i in range(n):\n",
        "  for col in range(i,n):\n",
        "    print(\" \",end=\"\")\n",
        "  for col in range (i+1):\n",
        "    print(\"*\",end=\"\")\n",
        "  for col in range(i):\n",
        "    print(\"*\",end=\"\")\n",
        "  print()\n"
      ],
      "metadata": {
        "colab": {
          "base_uri": "https://localhost:8080/"
        },
        "id": "bNXE6GtdWgJR",
        "outputId": "82cc8a71-9e7e-4e11-8cae-0ddd2e48b7c8"
      },
      "execution_count": 53,
      "outputs": [
        {
          "output_type": "stream",
          "name": "stdout",
          "text": [
            " ********\n",
            "  ******\n",
            "   ****\n",
            "    **\n",
            "     \n",
            "     *\n",
            "    ***\n",
            "   *****\n",
            "  *******\n",
            " *********\n"
          ]
        }
      ]
    },
    {
      "cell_type": "code",
      "source": [
        "res=[[1]]\n",
        "for i in range(1,nums):\n",
        "  row=[1]\n",
        "  prev=[-1]\n",
        "  for j in range(1,i):\n",
        "    row.append(nums[j]+nums[j-1])\n",
        "  row.append(1)\n",
        "  res.append(row)"
      ],
      "metadata": {
        "id": "i5sZxLs9Wf6w"
      },
      "execution_count": null,
      "outputs": []
    },
    {
      "cell_type": "code",
      "source": [
        "list=[1,2,3,4,5]\n",
        "for number in list:\n",
        "  sum=number+1\n",
        "  print(sum)\n"
      ],
      "metadata": {
        "colab": {
          "base_uri": "https://localhost:8080/"
        },
        "id": "UU0jOWnZCFlg",
        "outputId": "6ac96467-ae43-4869-cd11-da52bf2cfc31"
      },
      "execution_count": 4,
      "outputs": [
        {
          "output_type": "stream",
          "name": "stdout",
          "text": [
            "2\n",
            "3\n",
            "4\n",
            "5\n",
            "6\n"
          ]
        }
      ]
    },
    {
      "cell_type": "code",
      "source": [
        "\n",
        "n=4\n",
        "for i in range(n):\n",
        "  for j in range(n):\n",
        "    if i == 0 or i == n-1 or j == 0 or j == n-1:\n",
        "        print(\"*\", end=\" \")\n",
        "    else:\n",
        "        print(\" \", end=\" \")\n",
        "\n",
        "\n",
        "\n",
        "\n",
        "\n",
        "  print()"
      ],
      "metadata": {
        "colab": {
          "base_uri": "https://localhost:8080/"
        },
        "id": "YRQucW-YcEZJ",
        "outputId": "58a87693-f451-466e-a6f4-b745e3b7bc86"
      },
      "execution_count": 24,
      "outputs": [
        {
          "output_type": "stream",
          "name": "stdout",
          "text": [
            "* * * * \n",
            "*     * \n",
            "*     * \n",
            "* * * * \n"
          ]
        }
      ]
    },
    {
      "cell_type": "code",
      "source": [],
      "metadata": {
        "id": "yzvYa-CHcEUz"
      },
      "execution_count": null,
      "outputs": []
    },
    {
      "cell_type": "code",
      "source": [],
      "metadata": {
        "id": "U-TpFFLncEPv"
      },
      "execution_count": null,
      "outputs": []
    },
    {
      "cell_type": "code",
      "source": [],
      "metadata": {
        "id": "HrUGbYnucEMM"
      },
      "execution_count": null,
      "outputs": []
    },
    {
      "cell_type": "code",
      "source": [],
      "metadata": {
        "id": "sgJsO4B_cEIX"
      },
      "execution_count": null,
      "outputs": []
    },
    {
      "cell_type": "code",
      "source": [],
      "metadata": {
        "id": "GpAeUB1ScEEr"
      },
      "execution_count": null,
      "outputs": []
    },
    {
      "cell_type": "code",
      "source": [],
      "metadata": {
        "id": "7AozIWSmcEBk"
      },
      "execution_count": null,
      "outputs": []
    },
    {
      "cell_type": "code",
      "source": [],
      "metadata": {
        "id": "pSrXlLvTcD-U"
      },
      "execution_count": null,
      "outputs": []
    },
    {
      "cell_type": "code",
      "source": [],
      "metadata": {
        "id": "UxchHAtPcD4U"
      },
      "execution_count": null,
      "outputs": []
    }
  ]
}