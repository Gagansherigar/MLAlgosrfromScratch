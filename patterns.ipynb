{
  "nbformat": 4,
  "nbformat_minor": 0,
  "metadata": {
    "colab": {
      "provenance": [],
      "authorship_tag": "ABX9TyMrai0IHFGqpXtwdkXUcgZH",
      "include_colab_link": true
    },
    "kernelspec": {
      "name": "python3",
      "display_name": "Python 3"
    },
    "language_info": {
      "name": "python"
    }
  },
  "cells": [
    {
      "cell_type": "markdown",
      "metadata": {
        "id": "view-in-github",
        "colab_type": "text"
      },
      "source": [
        "<a href=\"https://colab.research.google.com/github/Gagansherigar/MLAlgosrfromScratch/blob/main/patterns.ipynb\" target=\"_parent\"><img src=\"https://colab.research.google.com/assets/colab-badge.svg\" alt=\"Open In Colab\"/></a>"
      ]
    },
    {
      "cell_type": "code",
      "execution_count": 14,
      "metadata": {
        "colab": {
          "base_uri": "https://localhost:8080/"
        },
        "id": "AS5GvGBnUJcg",
        "outputId": "62eee840-e60a-4f90-df95-53303c030c66"
      },
      "outputs": [
        {
          "output_type": "stream",
          "name": "stdout",
          "text": [
            "*****\n",
            "*****\n",
            "*****\n",
            "*****\n",
            "*****\n"
          ]
        }
      ],
      "source": [
        "for i in range(5):\n",
        "  for j in range(5):\n",
        "    print(\"*\",end=\"\")\n",
        "  print()\n",
        "\n",
        "\n",
        ""
      ]
    },
    {
      "cell_type": "code",
      "source": [
        "for i in range(5):\n",
        "  for j in range(i+1):\n",
        "    print(\"*\",end=\"\")\n",
        "  print()"
      ],
      "metadata": {
        "colab": {
          "base_uri": "https://localhost:8080/"
        },
        "id": "EdEMoOGHVfME",
        "outputId": "24483667-548e-42b7-ebb6-06070e9dcbc4"
      },
      "execution_count": 30,
      "outputs": [
        {
          "output_type": "stream",
          "name": "stdout",
          "text": [
            "*\n",
            "**\n",
            "***\n",
            "****\n",
            "*****\n"
          ]
        }
      ]
    },
    {
      "cell_type": "code",
      "source": [
        "for row in range(5):\n",
        "  for col in range(5-i):\n",
        "    print(end=\" \")\n",
        "\n",
        "\n",
        ""
      ],
      "metadata": {
        "colab": {
          "base_uri": "https://localhost:8080/"
        },
        "id": "ucLwmXuRYn4_",
        "outputId": "e1330afc-5758-4a23-93d6-fefb36b2ef4c"
      },
      "execution_count": 29,
      "outputs": [
        {
          "output_type": "stream",
          "name": "stdout",
          "text": [
            " *\n",
            " *\n",
            " *\n",
            " *\n",
            " *\n"
          ]
        }
      ]
    },
    {
      "cell_type": "code",
      "source": [
        "for i in range(5):\n",
        "  for j in range(5-i):\n",
        "    print(\"*\",end=\"\")\n",
        "  print()"
      ],
      "metadata": {
        "colab": {
          "base_uri": "https://localhost:8080/"
        },
        "id": "iQXHX6plZ598",
        "outputId": "56b56601-b758-4327-e621-cbc45fd0ecd0"
      },
      "execution_count": 31,
      "outputs": [
        {
          "output_type": "stream",
          "name": "stdout",
          "text": [
            "*****\n",
            "****\n",
            "***\n",
            "**\n",
            "*\n"
          ]
        }
      ]
    },
    {
      "cell_type": "code",
      "source": [
        "for i in range(5):\n",
        "  for j in range(i,5):\n",
        "    print(' ',end=\"\")\n",
        "  for j in range(i+1):\n",
        "    print(\"*\",end=\"\")\n",
        "\n",
        "  print()"
      ],
      "metadata": {
        "colab": {
          "base_uri": "https://localhost:8080/"
        },
        "id": "fQJvQ8d1caOK",
        "outputId": "6adca5ca-d97d-42be-99fb-c4490ef0eca8"
      },
      "execution_count": 33,
      "outputs": [
        {
          "output_type": "stream",
          "name": "stdout",
          "text": [
            "     *\n",
            "    **\n",
            "   ***\n",
            "  ****\n",
            " *****\n"
          ]
        }
      ]
    },
    {
      "cell_type": "code",
      "source": [
        "n=5\n",
        "\n",
        "for i in range(n):\n",
        "  for j in range(i,n):\n",
        "    print(\" \",end=\"\")\n",
        "\n",
        "  for j in range(i+1):\n",
        "    print(\"*\",end=\"\")\n",
        "\n",
        "  for j in range(i):\n",
        "    print(\"*\",end=\"\")\n",
        "\n",
        "\n",
        "\n",
        "\n",
        "\n",
        "  print()"
      ],
      "metadata": {
        "colab": {
          "base_uri": "https://localhost:8080/"
        },
        "id": "OL4mR43scaLP",
        "outputId": "dd30d864-ad57-4ca0-8c49-16f4edab7cdf"
      },
      "execution_count": 50,
      "outputs": [
        {
          "output_type": "stream",
          "name": "stdout",
          "text": [
            "     *\n",
            "    ***\n",
            "   *****\n",
            "  *******\n",
            " *********\n"
          ]
        }
      ]
    },
    {
      "cell_type": "code",
      "source": [
        "for i in  range(n):\n",
        "  for space in range(i):\n",
        "    print(\" \",end=\"\")\n",
        "  for j in range(n-i):\n",
        "    print(\"*\",end=\"\")\n",
        "\n",
        "  for j in range(n-i-1):\n",
        "    print(\"*\",end=\"\")\n",
        "\n",
        "\n",
        "\n",
        "  print()"
      ],
      "metadata": {
        "colab": {
          "base_uri": "https://localhost:8080/"
        },
        "id": "36EcTi4YcaJU",
        "outputId": "ce4ac480-2a67-46cf-e225-247dace75cdd"
      },
      "execution_count": 76,
      "outputs": [
        {
          "output_type": "stream",
          "name": "stdout",
          "text": [
            "*********\n",
            " ******\n",
            "  ***\n",
            "   *\n",
            "    \n"
          ]
        }
      ]
    },
    {
      "cell_type": "code",
      "source": [
        "n=6\n",
        "for i in range (n):\n",
        "  for space in range(i+1):\n",
        "    print(\" \",end=\"\")\n",
        "  for j in range(i,n):\n",
        "    print(\"*\",end=\"\")\n",
        "  for j in range(i,n-1):\n",
        "    print(\"*\",end=\"\")\n",
        "\n",
        "\n",
        "\n",
        "\n",
        "  print()"
      ],
      "metadata": {
        "colab": {
          "base_uri": "https://localhost:8080/"
        },
        "id": "wsIkxJyvcaHU",
        "outputId": "39c5d336-0bc6-40d2-b82b-cfd60da54eee"
      },
      "execution_count": 89,
      "outputs": [
        {
          "output_type": "stream",
          "name": "stdout",
          "text": [
            " ***********\n",
            "  *********\n",
            "   *******\n",
            "    *****\n",
            "     ***\n",
            "      *\n"
          ]
        }
      ]
    },
    {
      "cell_type": "code",
      "source": [
        "for i in range (n):\n",
        "  for j in range(i,n):\n",
        "    print(\" \",end=\"\")\n",
        "\n",
        "  for j in range(i+1):\n",
        "    print(\"*\",end=\"\")\n",
        "\n",
        "  for j in range(i):\n",
        "    print(\"*\",end=\"\")\n",
        "\n",
        "\n",
        "  print()\n",
        "for i in range (n):\n",
        "  for space in range(i+1):\n",
        "    print(\" \",end=\"\")\n",
        "  for j in range(i,n):\n",
        "    print(\"*\",end=\"\")\n",
        "  for j in range(i,n-1):\n",
        "    print(\"*\",end=\"\")\n",
        "  print()\n"
      ],
      "metadata": {
        "colab": {
          "base_uri": "https://localhost:8080/"
        },
        "id": "U_5GKiP_caFa",
        "outputId": "0363b514-97d7-4d9e-843f-70c3ef021a6f"
      },
      "execution_count": 97,
      "outputs": [
        {
          "output_type": "stream",
          "name": "stdout",
          "text": [
            "      *\n",
            "     ***\n",
            "    *****\n",
            "   *******\n",
            "  *********\n",
            " ***********\n",
            " ***********\n",
            "  *********\n",
            "   *******\n",
            "    *****\n",
            "     ***\n",
            "      *\n"
          ]
        }
      ]
    },
    {
      "cell_type": "code",
      "source": [
        ""
      ],
      "metadata": {
        "id": "x0769bDGcaDK"
      },
      "execution_count": null,
      "outputs": []
    }
  ]
}