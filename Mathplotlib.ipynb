{
  "nbformat": 4,
  "nbformat_minor": 0,
  "metadata": {
    "colab": {
      "provenance": [],
      "authorship_tag": "ABX9TyM1VotLBnY1NQ7M0yuOZ22C",
      "include_colab_link": true
    },
    "kernelspec": {
      "name": "python3",
      "display_name": "Python 3"
    },
    "language_info": {
      "name": "python"
    }
  },
  "cells": [
    {
      "cell_type": "markdown",
      "metadata": {
        "id": "view-in-github",
        "colab_type": "text"
      },
      "source": [
        "<a href=\"https://colab.research.google.com/github/Gagansherigar/MLAlgosrfromScratch/blob/main/Mathplotlib.ipynb\" target=\"_parent\"><img src=\"https://colab.research.google.com/assets/colab-badge.svg\" alt=\"Open In Colab\"/></a>"
      ]
    },
    {
      "cell_type": "code",
      "execution_count": 2,
      "metadata": {
        "id": "ymJ-XwNuKKk1"
      },
      "outputs": [],
      "source": [
        "import pandas as pd"
      ]
    },
    {
      "cell_type": "code",
      "source": [
        "import matplotlib.pyplot as plt\n",
        "import numpy as np"
      ],
      "metadata": {
        "id": "0EeMG3MaK2E0"
      },
      "execution_count": 1,
      "outputs": []
    },
    {
      "cell_type": "markdown",
      "source": [
        "**Basic Graph**"
      ],
      "metadata": {
        "id": "zKw5xuSdiJZo"
      }
    },
    {
      "cell_type": "code",
      "source": [
        "x=[1,2,3,4,5,]\n",
        "y=[2,3,4,5,6]\n",
        "plt.figure(figsize=(5,3),dpi=100)\n",
        "plt.plot(x,y,label='2x',color='red',linewidth=2, marker='.',markersize=10,markeredgecolor='blue',linestyle='--')\n",
        "\n",
        "\n",
        "x2=np.arange(0,4,0.5)\n",
        "print(x2)\n",
        "plt.plot(x2[:4],x2[:4]**2,color='red',label='x^2')\n",
        "plt.plot(x2[4:],x2[4:]**2,'r--')\n",
        "\n",
        "plt.title(\"graph\",fontdict={'fontsize':20})\n",
        "\n",
        "plt.xticks([0,1,2,3,4])\n",
        "plt.yticks([0,2,4,6,8])\n",
        "\n",
        "plt.xlabel('x axis')\n",
        "plt.ylabel('y axis')\n",
        "\n",
        "plt.legend()\n",
        "\n",
        "plt.show()"
      ],
      "metadata": {
        "colab": {
          "base_uri": "https://localhost:8080/",
          "height": 358
        },
        "id": "-G02JU24K8Hr",
        "outputId": "592f1cef-33e8-4b5a-9908-b3e55c0f1a2e"
      },
      "execution_count": 34,
      "outputs": [
        {
          "output_type": "stream",
          "name": "stdout",
          "text": [
            "[0.  0.5 1.  1.5 2.  2.5 3.  3.5]\n"
          ]
        },
        {
          "output_type": "display_data",
          "data": {
            "text/plain": [
              "<Figure size 500x300 with 1 Axes>"
            ],
            "image/png": "[encoded data removed]"
          },
          "metadata": {}
        }
      ]
    },
    {
      "cell_type": "code",
      "source": [],
      "metadata": {
        "id": "dS9x6Hc-LRW-"
      },
      "execution_count": null,
      "outputs": []
    },
    {
      "cell_type": "code",
      "source": [],
      "metadata": {
        "id": "AztnqeKLLRTm"
      },
      "execution_count": null,
      "outputs": []
    },
    {
      "cell_type": "code",
      "source": [],
      "metadata": {
        "id": "IXGrCy3iLRRt"
      },
      "execution_count": null,
      "outputs": []
    },
    {
      "cell_type": "code",
      "source": [],
      "metadata": {
        "id": "nV6YSlhsLROw"
      },
      "execution_count": null,
      "outputs": []
    }
  ]
}